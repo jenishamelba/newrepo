{
 "cells": [
  {
   "cell_type": "markdown",
   "id": "8baf38b5",
   "metadata": {},
   "source": [
    "# Data Science Tools And Ecosystems"
   ]
  },
  {
   "cell_type": "markdown",
   "id": "5eba3394",
   "metadata": {},
   "source": [
    "## In this notebook, Data Science Tools and Ecosystem are summarized."
   ]
  },
  {
   "cell_type": "markdown",
   "id": "c57a46a1",
   "metadata": {},
   "source": [
    "# Popular Languages in Data Science\n",
    "\n",
    "\n",
    "\n"
   ]
  },
  {
   "cell_type": "markdown",
   "id": "d1a9c5f4",
   "metadata": {},
   "source": [
    "\n",
    "\n",
    "\n",
    "1. **Python:**\n",
    "   Python is the most widely used programming language in the field of data science. It offers a rich ecosystem of libraries and frameworks such as NumPy, Pandas, Matplotlib, and Scikit-learn, making it versatile for tasks like data analysis, machine learning, and data visualization.\n",
    "\n",
    "2. **R:**\n",
    "   R is another popular language among data scientists, particularly in the field of statistics and data analysis. It provides a comprehensive set of packages for statistical modeling, data manipulation, and visualization. R is known for its powerful statistical capabilities and is often favored in academic and research settings.\n",
    "\n",
    "3. **SQL (Structured Query Language):**\n",
    "   While not a programming language in the traditional sense, SQL is crucial for data scientists. It is used for querying and managing relational databases, which are common storage systems for structured data. Proficiency in SQL is essential for extracting, transforming, and analyzing data stored in databases.\n",
    "\n",
    "4. **Julia:**\n",
    "   Julia is gaining popularity in the data science community due to its high performance and ease of use. It is designed for numerical and scientific computing, making it suitable for tasks that require intensive computational resources, such as machine learning and simulations.\n",
    "\n",
    "These languages provide a solid foundation for data scientists to manipulate, analyze, and derive insights from data in various domains.\n",
    "\n",
    "\n"
   ]
  },
  {
   "cell_type": "markdown",
   "id": "ffc284bf",
   "metadata": {},
   "source": [
    "# Common Data Science Libraries\n",
    "\n"
   ]
  },
  {
   "cell_type": "markdown",
   "id": "c0dc2e13",
   "metadata": {},
   "source": [
    "\n",
    "1. **NumPy:**\n",
    "   - Purpose: Numerical computing in Python.\n",
    "   - Key Features: Efficient array operations, mathematical functions.\n",
    "\n",
    "2. **Pandas:**\n",
    "   - Purpose: Data manipulation and analysis.\n",
    "   - Key Features: Data structures like DataFrame, tools for reading and writing data.\n",
    "\n",
    "3. **Matplotlib:**\n",
    "   - Purpose: Data visualization.\n",
    "   - Key Features: Producing static, animated, and interactive plots.\n",
    "\n",
    "4. **Seaborn:**\n",
    "   - Purpose: Statistical data visualization (built on Matplotlib).\n",
    "   - Key Features: High-level interface for drawing attractive and informative statistical graphics.\n",
    "\n",
    "5. **Scikit-learn:**\n",
    "   - Purpose: Machine learning library.\n",
    "   - Key Features: Simple and efficient tools for data mining and data analysis, built on NumPy, SciPy, and Matplotlib.\n",
    "\n",
    "6. **TensorFlow:**\n",
    "   - Purpose: Open-source machine learning framework.\n",
    "   - Key Features: Deep learning library, flexible architecture.\n",
    "\n",
    "7. **PyTorch:**\n",
    "   - Purpose: Open-source machine learning framework.\n",
    "   - Key Features: Dynamic computational graphs, widely used in deep learning.\n",
    "\n",
    "8. **Statsmodels:**\n",
    "   - Purpose: Statistical models estimation and hypothesis testing.\n",
    "   - Key Features: Comprehensive library for estimating and testing statistical models.\n",
    "\n",
    "9. **NLTK (Natural Language Toolkit):**\n",
    "   - Purpose: Text processing and analysis.\n",
    "   - Key Features: Collection of libraries for tasks such as classification, tokenization, stemming, tagging, parsing, and more.\n",
    "\n",
    "10. **Beautiful Soup:**\n",
    "    - Purpose: Web scraping library.\n",
    "    - Key Features: Pulls data out of HTML and XML files, easy to use for web scraping tasks.\n",
    "\n",
    "These libraries form the backbone of data science in Python, providing essential tools for tasks ranging from data manipulation and analysis to machine learning and visualization.\n"
   ]
  },
  {
   "cell_type": "markdown",
   "id": "28275bf4",
   "metadata": {},
   "source": [
    "# Data Science Tools"
   ]
  },
  {
   "cell_type": "markdown",
   "id": "85e86cd3",
   "metadata": {},
   "source": [
    "\n",
    "\n",
    "| Tool Name       | Purpose                                       | Key Features                                             |\n",
    "|------------------|-----------------------------------------------|----------------------------------------------------------|\n",
    "| **Jupyter Notebook** | Interactive computing and data exploration. | Supports various programming languages, rich text formatting.|\n",
    "| **RStudio**      | Integrated development environment for R.      | Code editing, debugging, and visualization in one place.  |\n",
    "| **Anaconda**     | Open-source distribution for Python and R.     | Package management, environments, and data science libraries. |\n",
    "| **Tableau**      | Data visualization and business intelligence.  | Drag-and-drop interface, wide range of chart types.       |\n",
    "| **Power BI**     | Business analytics and data visualization.     | Integration with various data sources, easy-to-create dashboards. |\n",
    "| **Apache Hadoop**| Distributed storage and processing framework.  | Scalable for handling large datasets across clusters.     |\n",
    "| **Apache Spark** | Fast and general-purpose cluster computing.   | In-memory processing, supports multiple programming languages. |\n",
    "| **Git**          | Version control system for tracking changes.   | Collaboration, branching, and merging of code repositories. |\n",
    "| **Docker**       | Containerization platform for deploying apps. | Portable and scalable application deployment.               |\n",
    "| **Kaggle**       | Online platform for data science competitions.| Datasets, kernels, and collaboration in a competitive environment.|\n",
    "| **TensorBoard**  | Web-based tool for TensorFlow model visualization.| Monitor and debug TensorFlow models.                      |\n",
    "\n",
    "These tools play a crucial role in different aspects of the data science workflow, from data exploration and analysis to visualization and deployment.\n"
   ]
  },
  {
   "cell_type": "markdown",
   "id": "2218185a",
   "metadata": {},
   "source": [
    "# Data Science Tools"
   ]
  },
  {
   "cell_type": "markdown",
   "id": "ddb49fef",
   "metadata": {},
   "source": [
    "\n",
    "\n",
    "| Tool Name       | Purpose                                       | Key Features                                             |\n",
    "|------------------|-----------------------------------------------|----------------------------------------------------------|\n",
    "| **Jupyter Notebook** | Interactive computing and data exploration. | Supports various programming languages, rich text formatting.|\n",
    "| **RStudio**      | Integrated development environment for R.      | Code editing, debugging, and visualization in one place.  |\n",
    "| **Anaconda**     | Open-source distribution for Python and R.     | Package management, environments, and data science libraries. |\n",
    "| **Tableau**      | Data visualization and business intelligence.  | Drag-and-drop interface, wide range of chart types.       |\n",
    "| **Power BI**     | Business analytics and data visualization.     | Integration with various data sources, easy-to-create dashboards. |\n",
    "| **Apache Hadoop**| Distributed storage and processing framework.  | Scalable for handling large datasets across clusters.     |\n",
    "| **Apache Spark** | Fast and general-purpose cluster computing.   | In-memory processing, supports multiple programming languages. |\n",
    "| **Git**          | Version control system for tracking changes.   | Collaboration, branching, and merging of code repositories. |\n",
    "| **Docker**       | Containerization platform for deploying apps. | Portable and scalable application deployment.               |\n",
    "| **Kaggle**       | Online platform for data science competitions.| Datasets, kernels, and collaboration in a competitive environment.|\n",
    "| **TensorBoard**  | Web-based tool for TensorFlow model visualization.| Monitor and debug TensorFlow models.                      |\n",
    "\n",
    "### Below are a few examples of evaluating arithmetic expressions in Python\n"
   ]
  },
  {
   "cell_type": "code",
   "execution_count": 1,
   "id": "b49afc60",
   "metadata": {},
   "outputs": [
    {
     "data": {
      "text/plain": [
       "17"
      ]
     },
     "execution_count": 1,
     "metadata": {},
     "output_type": "execute_result"
    }
   ],
   "source": [
    "# Code cell to multiply and add numbers\n",
    "result = (3 * 4) + 5\n",
    "result\n"
   ]
  },
  {
   "cell_type": "markdown",
   "id": "1b44a7f4",
   "metadata": {},
   "source": [
    "# Code cell to convert minutes to hours"
   ]
  },
  {
   "cell_type": "code",
   "execution_count": 2,
   "id": "04b6fc0e",
   "metadata": {},
   "outputs": [
    {
     "data": {
      "text/plain": [
       "3.3333333333333335"
      ]
     },
     "execution_count": 2,
     "metadata": {},
     "output_type": "execute_result"
    }
   ],
   "source": [
    "\n",
    "minutes = 200\n",
    "hours = minutes / 60\n",
    "hours\n"
   ]
  },
  {
   "cell_type": "markdown",
   "id": "1a2e4086",
   "metadata": {},
   "source": [
    "# Introduction\n",
    "\n",
    "This Jupyter Notebook explores various aspects of data science, including popular languages, libraries, and tools used in the field.\n",
    "\n",
    "---\n",
    "\n",
    "# Objectives:\n",
    "\n",
    "- **List popular languages for Data Science**\n",
    "- **Introduce common Data Science libraries**\n",
    "- **Provide an overview of Data Science tools**\n",
    "- **Demonstrate basic arithmetic operations in Python**\n",
    "- **Illustrate the conversion of minutes to hours in Python**\n"
   ]
  },
  {
   "cell_type": "markdown",
   "id": "da283302",
   "metadata": {},
   "source": [
    "## Author\n",
    "\n",
    "Jenisha Melba \n"
   ]
  },
  {
   "cell_type": "code",
   "execution_count": null,
   "id": "5dc6da9c",
   "metadata": {},
   "outputs": [],
   "source": []
  }
 ],
 "metadata": {
  "kernelspec": {
   "display_name": "Python 3 (ipykernel)",
   "language": "python",
   "name": "python3"
  },
  "language_info": {
   "codemirror_mode": {
    "name": "ipython",
    "version": 3
   },
   "file_extension": ".py",
   "mimetype": "text/x-python",
   "name": "python",
   "nbconvert_exporter": "python",
   "pygments_lexer": "ipython3",
   "version": "3.11.4"
  }
 },
 "nbformat": 4,
 "nbformat_minor": 5
}
